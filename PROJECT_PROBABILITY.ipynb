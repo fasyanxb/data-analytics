{
  "nbformat": 4,
  "nbformat_minor": 0,
  "metadata": {
    "colab": {
      "provenance": [],
      "authorship_tag": "ABX9TyPdp9r6479054zDVfuAeSSz",
      "include_colab_link": true
    },
    "kernelspec": {
      "name": "python3",
      "display_name": "Python 3"
    },
    "language_info": {
      "name": "python"
    }
  },
  "cells": [
    {
      "cell_type": "markdown",
      "metadata": {
        "id": "view-in-github",
        "colab_type": "text"
      },
      "source": [
        "<a href=\"https://colab.research.google.com/github/fasyanxb/probability-project/blob/main/PROJECT_PROBABILITY.ipynb\" target=\"_parent\"><img src=\"https://colab.research.google.com/assets/colab-badge.svg\" alt=\"Open In Colab\"/></a>"
      ]
    },
    {
      "cell_type": "markdown",
      "source": [
        "# Import Libraries"
      ],
      "metadata": {
        "id": "wyGgegxRyVRq"
      }
    },
    {
      "cell_type": "code",
      "source": [
        "import pandas as pd\n",
        "import numpy as np\n",
        "import seaborn as sns\n",
        "import matplotlib.pyplot as plt"
      ],
      "metadata": {
        "id": "7iNC-P5qypmP"
      },
      "execution_count": null,
      "outputs": []
    },
    {
      "cell_type": "markdown",
      "source": [
        "# Loading Data"
      ],
      "metadata": {
        "id": "d4RugonGwKFz"
      }
    },
    {
      "cell_type": "code",
      "execution_count": null,
      "metadata": {
        "colab": {
          "base_uri": "https://localhost:8080/"
        },
        "id": "s8sFlBXzvsXa",
        "outputId": "1c32dbc8-e57c-4f41-dd56-61e7d4e7ac9f"
      },
      "outputs": [
        {
          "output_type": "stream",
          "name": "stdout",
          "text": [
            "Mounted at /content/drive\n"
          ]
        }
      ],
      "source": [
        "from google.colab import drive\n",
        "drive.mount('/content/drive')"
      ]
    },
    {
      "cell_type": "code",
      "source": [
        "df_ins=pd.read_csv('/content/drive/MyDrive/Sekolah Data PACMANN/Project - Probability Course/insurance.csv')"
      ],
      "metadata": {
        "id": "669jdHRiyA6S"
      },
      "execution_count": null,
      "outputs": []
    },
    {
      "cell_type": "markdown",
      "source": [
        "# Reading Data"
      ],
      "metadata": {
        "id": "iEBcT34ezU1z"
      }
    },
    {
      "cell_type": "code",
      "source": [
        "df_ins.head(5)"
      ],
      "metadata": {
        "colab": {
          "base_uri": "https://localhost:8080/",
          "height": 206
        },
        "id": "NDMyYzjRucIW",
        "outputId": "035344eb-e4e8-4167-a5b4-6c519c6fb3a9"
      },
      "execution_count": null,
      "outputs": [
        {
          "output_type": "execute_result",
          "data": {
            "text/plain": [
              "   age     sex     bmi  children smoker     region      charges\n",
              "0   19  female  27.900         0    yes  southwest  16884.92400\n",
              "1   18    male  33.770         1     no  southeast   1725.55230\n",
              "2   28    male  33.000         3     no  southeast   4449.46200\n",
              "3   33    male  22.705         0     no  northwest  21984.47061\n",
              "4   32    male  28.880         0     no  northwest   3866.85520"
            ],
            "text/html": [
              "\n",
              "  <div id=\"df-87f5e958-c50b-4f37-8802-14c1b05d06df\">\n",
              "    <div class=\"colab-df-container\">\n",
              "      <div>\n",
              "<style scoped>\n",
              "    .dataframe tbody tr th:only-of-type {\n",
              "        vertical-align: middle;\n",
              "    }\n",
              "\n",
              "    .dataframe tbody tr th {\n",
              "        vertical-align: top;\n",
              "    }\n",
              "\n",
              "    .dataframe thead th {\n",
              "        text-align: right;\n",
              "    }\n",
              "</style>\n",
              "<table border=\"1\" class=\"dataframe\">\n",
              "  <thead>\n",
              "    <tr style=\"text-align: right;\">\n",
              "      <th></th>\n",
              "      <th>age</th>\n",
              "      <th>sex</th>\n",
              "      <th>bmi</th>\n",
              "      <th>children</th>\n",
              "      <th>smoker</th>\n",
              "      <th>region</th>\n",
              "      <th>charges</th>\n",
              "    </tr>\n",
              "  </thead>\n",
              "  <tbody>\n",
              "    <tr>\n",
              "      <th>0</th>\n",
              "      <td>19</td>\n",
              "      <td>female</td>\n",
              "      <td>27.900</td>\n",
              "      <td>0</td>\n",
              "      <td>yes</td>\n",
              "      <td>southwest</td>\n",
              "      <td>16884.92400</td>\n",
              "    </tr>\n",
              "    <tr>\n",
              "      <th>1</th>\n",
              "      <td>18</td>\n",
              "      <td>male</td>\n",
              "      <td>33.770</td>\n",
              "      <td>1</td>\n",
              "      <td>no</td>\n",
              "      <td>southeast</td>\n",
              "      <td>1725.55230</td>\n",
              "    </tr>\n",
              "    <tr>\n",
              "      <th>2</th>\n",
              "      <td>28</td>\n",
              "      <td>male</td>\n",
              "      <td>33.000</td>\n",
              "      <td>3</td>\n",
              "      <td>no</td>\n",
              "      <td>southeast</td>\n",
              "      <td>4449.46200</td>\n",
              "    </tr>\n",
              "    <tr>\n",
              "      <th>3</th>\n",
              "      <td>33</td>\n",
              "      <td>male</td>\n",
              "      <td>22.705</td>\n",
              "      <td>0</td>\n",
              "      <td>no</td>\n",
              "      <td>northwest</td>\n",
              "      <td>21984.47061</td>\n",
              "    </tr>\n",
              "    <tr>\n",
              "      <th>4</th>\n",
              "      <td>32</td>\n",
              "      <td>male</td>\n",
              "      <td>28.880</td>\n",
              "      <td>0</td>\n",
              "      <td>no</td>\n",
              "      <td>northwest</td>\n",
              "      <td>3866.85520</td>\n",
              "    </tr>\n",
              "  </tbody>\n",
              "</table>\n",
              "</div>\n",
              "      <button class=\"colab-df-convert\" onclick=\"convertToInteractive('df-87f5e958-c50b-4f37-8802-14c1b05d06df')\"\n",
              "              title=\"Convert this dataframe to an interactive table.\"\n",
              "              style=\"display:none;\">\n",
              "        \n",
              "  <svg xmlns=\"http://www.w3.org/2000/svg\" height=\"24px\"viewBox=\"0 0 24 24\"\n",
              "       width=\"24px\">\n",
              "    <path d=\"M0 0h24v24H0V0z\" fill=\"none\"/>\n",
              "    <path d=\"M18.56 5.44l.94 2.06.94-2.06 2.06-.94-2.06-.94-.94-2.06-.94 2.06-2.06.94zm-11 1L8.5 8.5l.94-2.06 2.06-.94-2.06-.94L8.5 2.5l-.94 2.06-2.06.94zm10 10l.94 2.06.94-2.06 2.06-.94-2.06-.94-.94-2.06-.94 2.06-2.06.94z\"/><path d=\"M17.41 7.96l-1.37-1.37c-.4-.4-.92-.59-1.43-.59-.52 0-1.04.2-1.43.59L10.3 9.45l-7.72 7.72c-.78.78-.78 2.05 0 2.83L4 21.41c.39.39.9.59 1.41.59.51 0 1.02-.2 1.41-.59l7.78-7.78 2.81-2.81c.8-.78.8-2.07 0-2.86zM5.41 20L4 18.59l7.72-7.72 1.47 1.35L5.41 20z\"/>\n",
              "  </svg>\n",
              "      </button>\n",
              "      \n",
              "  <style>\n",
              "    .colab-df-container {\n",
              "      display:flex;\n",
              "      flex-wrap:wrap;\n",
              "      gap: 12px;\n",
              "    }\n",
              "\n",
              "    .colab-df-convert {\n",
              "      background-color: #E8F0FE;\n",
              "      border: none;\n",
              "      border-radius: 50%;\n",
              "      cursor: pointer;\n",
              "      display: none;\n",
              "      fill: #1967D2;\n",
              "      height: 32px;\n",
              "      padding: 0 0 0 0;\n",
              "      width: 32px;\n",
              "    }\n",
              "\n",
              "    .colab-df-convert:hover {\n",
              "      background-color: #E2EBFA;\n",
              "      box-shadow: 0px 1px 2px rgba(60, 64, 67, 0.3), 0px 1px 3px 1px rgba(60, 64, 67, 0.15);\n",
              "      fill: #174EA6;\n",
              "    }\n",
              "\n",
              "    [theme=dark] .colab-df-convert {\n",
              "      background-color: #3B4455;\n",
              "      fill: #D2E3FC;\n",
              "    }\n",
              "\n",
              "    [theme=dark] .colab-df-convert:hover {\n",
              "      background-color: #434B5C;\n",
              "      box-shadow: 0px 1px 3px 1px rgba(0, 0, 0, 0.15);\n",
              "      filter: drop-shadow(0px 1px 2px rgba(0, 0, 0, 0.3));\n",
              "      fill: #FFFFFF;\n",
              "    }\n",
              "  </style>\n",
              "\n",
              "      <script>\n",
              "        const buttonEl =\n",
              "          document.querySelector('#df-87f5e958-c50b-4f37-8802-14c1b05d06df button.colab-df-convert');\n",
              "        buttonEl.style.display =\n",
              "          google.colab.kernel.accessAllowed ? 'block' : 'none';\n",
              "\n",
              "        async function convertToInteractive(key) {\n",
              "          const element = document.querySelector('#df-87f5e958-c50b-4f37-8802-14c1b05d06df');\n",
              "          const dataTable =\n",
              "            await google.colab.kernel.invokeFunction('convertToInteractive',\n",
              "                                                     [key], {});\n",
              "          if (!dataTable) return;\n",
              "\n",
              "          const docLinkHtml = 'Like what you see? Visit the ' +\n",
              "            '<a target=\"_blank\" href=https://colab.research.google.com/notebooks/data_table.ipynb>data table notebook</a>'\n",
              "            + ' to learn more about interactive tables.';\n",
              "          element.innerHTML = '';\n",
              "          dataTable['output_type'] = 'display_data';\n",
              "          await google.colab.output.renderOutput(dataTable, element);\n",
              "          const docLink = document.createElement('div');\n",
              "          docLink.innerHTML = docLinkHtml;\n",
              "          element.appendChild(docLink);\n",
              "        }\n",
              "      </script>\n",
              "    </div>\n",
              "  </div>\n",
              "  "
            ]
          },
          "metadata": {},
          "execution_count": 11
        }
      ]
    },
    {
      "cell_type": "code",
      "source": [
        "df_ins.info()"
      ],
      "metadata": {
        "colab": {
          "base_uri": "https://localhost:8080/"
        },
        "id": "z2oFm_nAzqaR",
        "outputId": "fd1e8f2c-2389-48fa-f241-e7f6d23b88a2"
      },
      "execution_count": null,
      "outputs": [
        {
          "output_type": "stream",
          "name": "stdout",
          "text": [
            "<class 'pandas.core.frame.DataFrame'>\n",
            "RangeIndex: 1338 entries, 0 to 1337\n",
            "Data columns (total 7 columns):\n",
            " #   Column    Non-Null Count  Dtype  \n",
            "---  ------    --------------  -----  \n",
            " 0   age       1338 non-null   int64  \n",
            " 1   sex       1338 non-null   object \n",
            " 2   bmi       1338 non-null   float64\n",
            " 3   children  1338 non-null   int64  \n",
            " 4   smoker    1338 non-null   object \n",
            " 5   region    1338 non-null   object \n",
            " 6   charges   1338 non-null   float64\n",
            "dtypes: float64(2), int64(2), object(3)\n",
            "memory usage: 73.3+ KB\n"
          ]
        }
      ]
    },
    {
      "cell_type": "code",
      "source": [
        "df_ins['age'].unique()"
      ],
      "metadata": {
        "colab": {
          "base_uri": "https://localhost:8080/"
        },
        "id": "eL_pL73T04WR",
        "outputId": "b0711825-9703-4d95-852c-f21596a12372"
      },
      "execution_count": null,
      "outputs": [
        {
          "output_type": "execute_result",
          "data": {
            "text/plain": [
              "array([19, 18, 28, 33, 32, 31, 46, 37, 60, 25, 62, 23, 56, 27, 52, 30, 34,\n",
              "       59, 63, 55, 22, 26, 35, 24, 41, 38, 36, 21, 48, 40, 58, 53, 43, 64,\n",
              "       20, 61, 44, 57, 29, 45, 54, 49, 47, 51, 42, 50, 39])"
            ]
          },
          "metadata": {},
          "execution_count": 6
        }
      ]
    },
    {
      "cell_type": "code",
      "source": [
        "df_ins['sex'].unique()"
      ],
      "metadata": {
        "colab": {
          "base_uri": "https://localhost:8080/"
        },
        "id": "zs9wE-DK1HsU",
        "outputId": "9271fab3-ed32-4531-c58a-1c34f02d616f"
      },
      "execution_count": null,
      "outputs": [
        {
          "output_type": "execute_result",
          "data": {
            "text/plain": [
              "array(['female', 'male'], dtype=object)"
            ]
          },
          "metadata": {},
          "execution_count": 7
        }
      ]
    },
    {
      "cell_type": "code",
      "source": [
        "df_ins['children'].unique()"
      ],
      "metadata": {
        "colab": {
          "base_uri": "https://localhost:8080/"
        },
        "id": "5BXifKPA1SNw",
        "outputId": "07e4c3f3-bb19-46e9-a19d-e02f29319da8"
      },
      "execution_count": null,
      "outputs": [
        {
          "output_type": "execute_result",
          "data": {
            "text/plain": [
              "array([0, 1, 3, 2, 5, 4])"
            ]
          },
          "metadata": {},
          "execution_count": 9
        }
      ]
    },
    {
      "cell_type": "code",
      "source": [
        "df_ins['smoker'].unique()"
      ],
      "metadata": {
        "colab": {
          "base_uri": "https://localhost:8080/"
        },
        "id": "HWl387iO1q1-",
        "outputId": "6a437fa7-2d40-469f-cc59-1e855f327f30"
      },
      "execution_count": null,
      "outputs": [
        {
          "output_type": "execute_result",
          "data": {
            "text/plain": [
              "array(['yes', 'no'], dtype=object)"
            ]
          },
          "metadata": {},
          "execution_count": 10
        }
      ]
    },
    {
      "cell_type": "code",
      "source": [
        "df_ins['region'].unique()"
      ],
      "metadata": {
        "id": "s4Fn7lkT1xZ7",
        "outputId": "97cb78c5-e455-4ed5-eff2-dd2e15d19af2",
        "colab": {
          "base_uri": "https://localhost:8080/"
        }
      },
      "execution_count": null,
      "outputs": [
        {
          "output_type": "execute_result",
          "data": {
            "text/plain": [
              "array(['southwest', 'southeast', 'northwest', 'northeast'], dtype=object)"
            ]
          },
          "metadata": {},
          "execution_count": 11
        }
      ]
    },
    {
      "cell_type": "markdown",
      "source": [
        "# 1. Analisa Descriptive Statistic\n",
        "\n"
      ],
      "metadata": {
        "id": "ypgELzAIuSet"
      }
    },
    {
      "cell_type": "markdown",
      "source": [
        "## 1-c\n",
        "Berapa rata rata umur pada data tersebut?\n",
        "\n",
        "---"
      ],
      "metadata": {
        "id": "XoZ-Yfq-X321"
      }
    },
    {
      "cell_type": "code",
      "source": [
        "age_mean=df_ins['age'].mean()\n",
        "print(f'Rata-rata umur pengguna adalah {age_mean:.0f}')"
      ],
      "metadata": {
        "colab": {
          "base_uri": "https://localhost:8080/"
        },
        "id": "icrbAzYd1fVe",
        "outputId": "0691bbbd-4e4e-4fcc-82d8-fe4c8ef73674"
      },
      "execution_count": null,
      "outputs": [
        {
          "output_type": "stream",
          "name": "stdout",
          "text": [
            "Rata-rata umur pengguna adalah 39\n"
          ]
        }
      ]
    },
    {
      "cell_type": "markdown",
      "source": [
        "## 1-d\n",
        "Berapa rata rata nilai BMI dari yang merokok?\n",
        "\n",
        "---"
      ],
      "metadata": {
        "id": "KNPSeZ0pX-H4"
      }
    },
    {
      "cell_type": "code",
      "source": [
        "bmi_mean_smoker=df_ins.loc[df_ins['smoker'] == 'yes', 'bmi'].mean()\n",
        "print(f'Rata-rata nilai BMI dari pengguna yang merokok {bmi_mean_smoker:.0f}')"
      ],
      "metadata": {
        "colab": {
          "base_uri": "https://localhost:8080/"
        },
        "id": "OAu-YeMo2Rp_",
        "outputId": "affec918-b42c-4533-908f-a8153064d86f"
      },
      "execution_count": null,
      "outputs": [
        {
          "output_type": "stream",
          "name": "stdout",
          "text": [
            "Rata-rata nilai BMI dari pengguna yang merokok 31\n"
          ]
        }
      ]
    },
    {
      "cell_type": "markdown",
      "source": [
        "## 1-e\n",
        "Apakah variansi dari data charges perokok dan non perokok sama?\n",
        "\n",
        "---"
      ],
      "metadata": {
        "id": "7vQbsmd-YWl6"
      }
    },
    {
      "cell_type": "code",
      "source": [
        "charges_smoker_var=df_ins.loc[df_ins['smoker'] == 'yes', 'charges'].var()\n",
        "print(f'variansi dari data charges perokok adalah {charges_smoker_var:.0f}')\n",
        "charges_nonsmoker_var=df_ins.loc[df_ins['smoker'] == 'no', 'charges'].var()\n",
        "print(f'variansi dari data charges non perokok adalah {charges_nonsmoker_var:.0f}')\n",
        "\n",
        "if charges_smoker_var == charges_nonsmoker_var:\n",
        "  print('variansi dari data charges perokok dan non perokok sama')\n",
        "else:\n",
        "  print('variansi dari data charges perokok dan non perokok berbeda')"
      ],
      "metadata": {
        "colab": {
          "base_uri": "https://localhost:8080/"
        },
        "id": "MedJvuAH2b61",
        "outputId": "9b496c5b-b597-47c3-9667-f5358a676843"
      },
      "execution_count": null,
      "outputs": [
        {
          "output_type": "stream",
          "name": "stdout",
          "text": [
            "variansi dari data charges perokok adalah 133207311\n",
            "variansi dari data charges non perokok adalah 35925420\n",
            "variansi dari data charges perokok dan non perokok berbeda\n"
          ]
        }
      ]
    },
    {
      "cell_type": "markdown",
      "source": [
        "## 1-f\n",
        "Apakah rata rata umur perempuan dan laki-laki yang merokok sama?\n",
        "\n",
        "---"
      ],
      "metadata": {
        "id": "473G4wL6YemB"
      }
    },
    {
      "cell_type": "code",
      "source": [
        "age_female_smoker_mean=df_ins.loc[(df_ins['sex'] == 'female') & (df_ins['smoker'] == 'yes'), 'age'].mean()\n",
        "print(f'rata rata umur perempuan yang merokok adalah {age_female_smoker_mean:.0f}')\n",
        "age_male_smoker_mean=df_ins.loc[(df_ins['sex'] == 'male') & (df_ins['smoker'] == 'yes'), 'age'].mean()\n",
        "print(f'rata rata umur laki-laki yang merokok adalah {age_male_smoker_mean:.0f}')\n",
        "\n",
        "if age_female_smoker_mean == age_male_smoker_mean:\n",
        "  print('rata-rata umur perempuan dan laki-laki yang merokok sama')\n",
        "else:\n",
        "  print('rata-rata umur perempuan dan laki-laki yang merokok berbeda')"
      ],
      "metadata": {
        "colab": {
          "base_uri": "https://localhost:8080/"
        },
        "id": "d2n8dChZ4EJr",
        "outputId": "8e890f15-4cd6-4b43-97f1-825bbdc51412"
      },
      "execution_count": null,
      "outputs": [
        {
          "output_type": "stream",
          "name": "stdout",
          "text": [
            "rata rata umur perempuan yang merokok adalah 39\n",
            "rata rata umur laki-laki yang merokok adalah 38\n",
            "rata-rata umur perempuan dan laki-laki yang merokok berbeda\n"
          ]
        }
      ]
    },
    {
      "cell_type": "markdown",
      "source": [
        "## 1-g\n",
        "Mana yang lebih tinggi, rata rata tagihan kesehatan perokok atau non perokok?\n",
        "\n",
        "---"
      ],
      "metadata": {
        "id": "hoLXEmKrYl52"
      }
    },
    {
      "cell_type": "code",
      "source": [
        "charges_smoker_mean=df_ins.loc[df_ins['smoker'] == 'yes', 'charges'].mean()\n",
        "print('rata rata tagihan kesehatan perokok adalah ',round(charges_smoker_mean))\n",
        "charges_nonsmoker_mean=df_ins.loc[df_ins['smoker'] == 'no', 'charges'].mean()\n",
        "print('rata rata tagihan kesehatan non perokok adalah ',round(charges_nonsmoker_mean))\n",
        "\n",
        "if charges_smoker_mean > charges_nonsmoker_mean:\n",
        "  print('rata rata tagihan kesehatan perokok lebih tinggi daripada non perokok')\n",
        "else:\n",
        "  print('rata rata tagihan kesehatan non perokok lebih tinggi daripada perokok')"
      ],
      "metadata": {
        "colab": {
          "base_uri": "https://localhost:8080/"
        },
        "id": "zeyuk5hV62p-",
        "outputId": "6bd391f2-eae3-4dea-b7f8-c5a0d3eee606"
      },
      "execution_count": 56,
      "outputs": [
        {
          "output_type": "stream",
          "name": "stdout",
          "text": [
            "rata rata tagihan kesehatan perokok adalah  32050\n",
            "rata rata tagihan kesehatan non perokok adalah  8434\n",
            "rata rata tagihan kesehatan perokok lebih tinggi daripada non perokok\n"
          ]
        }
      ]
    },
    {
      "cell_type": "code",
      "source": [
        "df_ins.loc[df_ins['smoker'] == 'yes', 'charges']"
      ],
      "metadata": {
        "colab": {
          "base_uri": "https://localhost:8080/"
        },
        "id": "mTbyYQlWVg-k",
        "outputId": "aaea199c-d0dd-4263-99b3-af143e7b9748"
      },
      "execution_count": 58,
      "outputs": [
        {
          "output_type": "execute_result",
          "data": {
            "text/plain": [
              "0       16884.92400\n",
              "11      27808.72510\n",
              "14      39611.75770\n",
              "19      36837.46700\n",
              "23      37701.87680\n",
              "           ...     \n",
              "1313    36397.57600\n",
              "1314    18765.87545\n",
              "1321    28101.33305\n",
              "1323    43896.37630\n",
              "1337    29141.36030\n",
              "Name: charges, Length: 274, dtype: float64"
            ]
          },
          "metadata": {},
          "execution_count": 58
        }
      ]
    },
    {
      "cell_type": "code",
      "source": [
        "df_ins.loc[df_ins['smoker'] == 'no', 'charges']"
      ],
      "metadata": {
        "colab": {
          "base_uri": "https://localhost:8080/"
        },
        "id": "pMYL6UZIVjEF",
        "outputId": "d44de1a2-121e-4fec-c376-3f731e05fecd"
      },
      "execution_count": 59,
      "outputs": [
        {
          "output_type": "execute_result",
          "data": {
            "text/plain": [
              "1        1725.55230\n",
              "2        4449.46200\n",
              "3       21984.47061\n",
              "4        3866.85520\n",
              "5        3756.62160\n",
              "           ...     \n",
              "1332    11411.68500\n",
              "1333    10600.54830\n",
              "1334     2205.98080\n",
              "1335     1629.83350\n",
              "1336     2007.94500\n",
              "Name: charges, Length: 1064, dtype: float64"
            ]
          },
          "metadata": {},
          "execution_count": 59
        }
      ]
    },
    {
      "cell_type": "markdown",
      "source": [
        "## 1-h\n",
        "Mana yang lebih tinggi, rata rata tagihan kesehatan perokok yang BMI nya diatas 25 atau non perokok yang BMI nya diatas 25?\n",
        "\n",
        "---"
      ],
      "metadata": {
        "id": "LARm5W9kYsOh"
      }
    },
    {
      "cell_type": "code",
      "source": [
        "charges_smoker_bmi25=df_ins.loc[(df_ins['smoker'] == 'yes') & (df_ins['bmi'] >25), 'charges'].mean()\n",
        "print('rata rata tagihan kesehatan perokok yang BMI nya diatas 25 adalah ',round(charges_smoker_bmi25))\n",
        "charges_nonsmoker_bmi25=df_ins.loc[(df_ins['smoker'] == 'no') & (df_ins['bmi'] >25), 'charges'].mean()\n",
        "print('rata rata tagihan kesehatan non perokok yang BMI nya diatas 25 adalah ',round(charges_nonsmoker_bmi25))\n",
        "\n",
        "if charges_smoker_bmi25 > charges_nonsmoker_bmi25:\n",
        "  print('rata rata tagihan kesehatan perokok yang BMI nya diatas 25 lebih tinggi daripada non perokok yang BMI nya diatas 25')\n",
        "else:\n",
        "  print('rata rata tagihan kesehatan non perokok yang BMI nya diatas 25 lebih tinggi daripada perokok yang BMI nya diatas 25')"
      ],
      "metadata": {
        "colab": {
          "base_uri": "https://localhost:8080/"
        },
        "id": "Bx81BpG57ruH",
        "outputId": "124c3d58-f598-4093-e8cf-45703c059a1f"
      },
      "execution_count": null,
      "outputs": [
        {
          "output_type": "stream",
          "name": "stdout",
          "text": [
            "rata rata tagihan kesehatan perokok yang BMI nya diatas 25 adalah  35117\n",
            "rata rata tagihan kesehatan non perokok yang BMI nya diatas 25 adalah  8630\n",
            "rata rata tagihan kesehatan perokok yang BMI nya diatas 25 lebih tinggi daripada non perokok yang BMI nya diatas 25\n"
          ]
        }
      ]
    },
    {
      "cell_type": "markdown",
      "source": [
        "# 2. Analisa Variabel Kategorik (PMF)"
      ],
      "metadata": {
        "id": "VcyvNAZTDpcW"
      }
    },
    {
      "cell_type": "markdown",
      "source": [
        "## 2-b\n",
        "Distribusi peluang tagihan di tiap-tiap region\n",
        "\n",
        "---"
      ],
      "metadata": {
        "id": "-ZyiTHAXIOgc"
      }
    },
    {
      "cell_type": "markdown",
      "source": [
        "Tagihan di region southwest"
      ],
      "metadata": {
        "id": "fvXrdKL18Gmy"
      }
    },
    {
      "cell_type": "code",
      "source": [
        "charges_southwest=df_ins.loc[(df_ins['region'] == 'southwest'),'charges']\n",
        "np_charges_southwest = charges_southwest.tolist()\n",
        "plt.hist(np_charges_southwest, bins=50)"
      ],
      "metadata": {
        "colab": {
          "base_uri": "https://localhost:8080/",
          "height": 577
        },
        "id": "s5jqWyTu8Cll",
        "outputId": "e6877c49-0863-486d-ced1-0e24515a7848"
      },
      "execution_count": 15,
      "outputs": [
        {
          "output_type": "execute_result",
          "data": {
            "text/plain": [
              "(array([36., 17., 20., 23., 20., 19., 17., 21., 17., 22., 18., 15.,  7.,\n",
              "         2.,  4.,  3.,  3.,  4.,  5.,  2.,  3.,  3.,  2.,  2.,  2.,  1.,\n",
              "         0.,  0.,  0.,  0.,  0.,  1.,  5.,  4.,  5.,  1.,  4.,  5.,  0.,\n",
              "         1.,  1.,  0.,  1.,  1.,  3.,  2.,  1.,  0.,  1.,  1.]),\n",
              " array([ 1241.565    ,  2268.5502878,  3295.5355756,  4322.5208634,\n",
              "         5349.5061512,  6376.491439 ,  7403.4767268,  8430.4620146,\n",
              "         9457.4473024, 10484.4325902, 11511.417878 , 12538.4031658,\n",
              "        13565.3884536, 14592.3737414, 15619.3590292, 16646.344317 ,\n",
              "        17673.3296048, 18700.3148926, 19727.3001804, 20754.2854682,\n",
              "        21781.270756 , 22808.2560438, 23835.2413316, 24862.2266194,\n",
              "        25889.2119072, 26916.197195 , 27943.1824828, 28970.1677706,\n",
              "        29997.1530584, 31024.1383462, 32051.123634 , 33078.1089218,\n",
              "        34105.0942096, 35132.0794974, 36159.0647852, 37186.050073 ,\n",
              "        38213.0353608, 39240.0206486, 40267.0059364, 41293.9912242,\n",
              "        42320.976512 , 43347.9617998, 44374.9470876, 45401.9323754,\n",
              "        46428.9176632, 47455.902951 , 48482.8882388, 49509.8735266,\n",
              "        50536.8588144, 51563.8441022, 52590.82939  ]),\n",
              " <a list of 50 Patch objects>)"
            ]
          },
          "metadata": {},
          "execution_count": 15
        },
        {
          "output_type": "display_data",
          "data": {
            "text/plain": [
              "<Figure size 432x288 with 1 Axes>"
            ],
            "image/png": "[encoded data removed]"
          },
          "metadata": {
            "needs_background": "light"
          }
        }
      ]
    },
    {
      "cell_type": "markdown",
      "source": [
        "Tagihan di region southeast"
      ],
      "metadata": {
        "id": "Ta9q5K888vwC"
      }
    },
    {
      "cell_type": "code",
      "source": [
        "charges_southeast=df_ins.loc[(df_ins['region'] == 'southeast'),'charges']\n",
        "np_charges_southeast = charges_southeast.tolist()\n",
        "plt.hist(np_charges_southeast, bins=50)"
      ],
      "metadata": {
        "colab": {
          "base_uri": "https://localhost:8080/",
          "height": 577
        },
        "id": "3i-_M6LL81NB",
        "outputId": "c7a46bcd-1e76-45cf-9822-6bbd65f2f892"
      },
      "execution_count": null,
      "outputs": [
        {
          "output_type": "execute_result",
          "data": {
            "text/plain": [
              "(array([47., 24., 31., 24., 21., 28., 18., 15., 15., 14., 11.,  2.,  5.,\n",
              "         7., 14.,  2.,  5.,  3.,  4.,  3.,  6.,  4.,  0.,  1.,  0.,  1.,\n",
              "         4.,  4.,  5.,  6.,  4.,  5.,  6.,  2.,  7.,  4.,  5.,  2.,  3.,\n",
              "         0.,  0.,  0.,  0.,  0.,  0.,  0.,  0.,  0.,  0.,  2.]),\n",
              " array([ 1121.8739   ,  2374.8449822,  3627.8160644,  4880.7871466,\n",
              "         6133.7582288,  7386.729311 ,  8639.7003932,  9892.6714754,\n",
              "        11145.6425576, 12398.6136398, 13651.584722 , 14904.5558042,\n",
              "        16157.5268864, 17410.4979686, 18663.4690508, 19916.440133 ,\n",
              "        21169.4112152, 22422.3822974, 23675.3533796, 24928.3244618,\n",
              "        26181.295544 , 27434.2666262, 28687.2377084, 29940.2087906,\n",
              "        31193.1798728, 32446.150955 , 33699.1220372, 34952.0931194,\n",
              "        36205.0642016, 37458.0352838, 38711.006366 , 39963.9774482,\n",
              "        41216.9485304, 42469.9196126, 43722.8906948, 44975.861777 ,\n",
              "        46228.8328592, 47481.8039414, 48734.7750236, 49987.7461058,\n",
              "        51240.717188 , 52493.6882702, 53746.6593524, 54999.6304346,\n",
              "        56252.6015168, 57505.572599 , 58758.5436812, 60011.5147634,\n",
              "        61264.4858456, 62517.4569278, 63770.42801  ]),\n",
              " <a list of 50 Patch objects>)"
            ]
          },
          "metadata": {},
          "execution_count": 33
        },
        {
          "output_type": "display_data",
          "data": {
            "text/plain": [
              "<Figure size 432x288 with 1 Axes>"
            ],
            "image/png": "[encoded data removed]"
          },
          "metadata": {
            "needs_background": "light"
          }
        }
      ]
    },
    {
      "cell_type": "markdown",
      "source": [
        "Tagihan di region northwest"
      ],
      "metadata": {
        "id": "EUYNCMuP88rF"
      }
    },
    {
      "cell_type": "code",
      "source": [
        "charges_northwest=df_ins.loc[(df_ins['region'] == 'northwest'),'charges']\n",
        "np_charges_northwest = charges_northwest.tolist()\n",
        "plt.hist(np_charges_northwest, bins=50)"
      ],
      "metadata": {
        "colab": {
          "base_uri": "https://localhost:8080/",
          "height": 577
        },
        "id": "zHt3E8cO9AK0",
        "outputId": "aad47b32-5746-472a-fb6e-25a5319a3e7c"
      },
      "execution_count": null,
      "outputs": [
        {
          "output_type": "execute_result",
          "data": {
            "text/plain": [
              "(array([43., 20., 27., 22., 28., 16., 16., 19., 22., 16., 13.,  5.,  4.,\n",
              "         5.,  6.,  4.,  4.,  6.,  1.,  7.,  3.,  1.,  3.,  5.,  3.,  0.,\n",
              "         2.,  4.,  0.,  1.,  2.,  1.,  3.,  1.,  0.,  3.,  2.,  1.,  3.,\n",
              "         1.,  0.,  0.,  0.,  0.,  0.,  1.,  0.,  0.,  0.,  1.]),\n",
              " array([ 1621.3402   ,  2789.3413754,  3957.3425508,  5125.3437262,\n",
              "         6293.3449016,  7461.346077 ,  8629.3472524,  9797.3484278,\n",
              "        10965.3496032, 12133.3507786, 13301.351954 , 14469.3531294,\n",
              "        15637.3543048, 16805.3554802, 17973.3566556, 19141.357831 ,\n",
              "        20309.3590064, 21477.3601818, 22645.3613572, 23813.3625326,\n",
              "        24981.363708 , 26149.3648834, 27317.3660588, 28485.3672342,\n",
              "        29653.3684096, 30821.369585 , 31989.3707604, 33157.3719358,\n",
              "        34325.3731112, 35493.3742866, 36661.375462 , 37829.3766374,\n",
              "        38997.3778128, 40165.3789882, 41333.3801636, 42501.381339 ,\n",
              "        43669.3825144, 44837.3836898, 46005.3848652, 47173.3860406,\n",
              "        48341.387216 , 49509.3883914, 50677.3895668, 51845.3907422,\n",
              "        53013.3919176, 54181.393093 , 55349.3942684, 56517.3954438,\n",
              "        57685.3966192, 58853.3977946, 60021.39897  ]),\n",
              " <a list of 50 Patch objects>)"
            ]
          },
          "metadata": {},
          "execution_count": 34
        },
        {
          "output_type": "display_data",
          "data": {
            "text/plain": [
              "<Figure size 432x288 with 1 Axes>"
            ],
            "image/png": "[encoded data removed]"
          },
          "metadata": {
            "needs_background": "light"
          }
        }
      ]
    },
    {
      "cell_type": "markdown",
      "source": [
        "Tagihan di region northeast"
      ],
      "metadata": {
        "id": "X8FBdLtd9Lro"
      }
    },
    {
      "cell_type": "code",
      "source": [
        "charges_northeast=df_ins.loc[(df_ins['region'] == 'northeast'),'charges']\n",
        "np_charges_northeast = charges_northeast.tolist()\n",
        "plt.hist(np_charges_northeast, bins=50)"
      ],
      "metadata": {
        "colab": {
          "base_uri": "https://localhost:8080/",
          "height": 577
        },
        "id": "rqfz3SZV9Pab",
        "outputId": "0ea4c33e-034d-459c-f269-a3a25f6f060b"
      },
      "execution_count": null,
      "outputs": [
        {
          "output_type": "execute_result",
          "data": {
            "text/plain": [
              "(array([34., 22., 24., 12., 25., 12., 24., 19., 20., 16., 17., 12.,  5.,\n",
              "         5.,  3.,  5.,  8.,  4.,  7.,  2.,  6.,  2.,  2.,  1.,  2.,  2.,\n",
              "         2.,  1.,  3.,  2.,  1.,  3.,  3.,  3.,  3.,  3.,  2.,  1.,  1.,\n",
              "         1.,  1.,  2.,  0.,  0.,  0.,  0.,  0.,  0.,  0.,  1.]),\n",
              " array([ 1694.7964   ,  2832.3219616,  3969.8475232,  5107.3730848,\n",
              "         6244.8986464,  7382.424208 ,  8519.9497696,  9657.4753312,\n",
              "        10795.0008928, 11932.5264544, 13070.052016 , 14207.5775776,\n",
              "        15345.1031392, 16482.6287008, 17620.1542624, 18757.679824 ,\n",
              "        19895.2053856, 21032.7309472, 22170.2565088, 23307.7820704,\n",
              "        24445.307632 , 25582.8331936, 26720.3587552, 27857.8843168,\n",
              "        28995.4098784, 30132.93544  , 31270.4610016, 32407.9865632,\n",
              "        33545.5121248, 34683.0376864, 35820.563248 , 36958.0888096,\n",
              "        38095.6143712, 39233.1399328, 40370.6654944, 41508.191056 ,\n",
              "        42645.7166176, 43783.2421792, 44920.7677408, 46058.2933024,\n",
              "        47195.818864 , 48333.3444256, 49470.8699872, 50608.3955488,\n",
              "        51745.9211104, 52883.446672 , 54020.9722336, 55158.4977952,\n",
              "        56296.0233568, 57433.5489184, 58571.07448  ]),\n",
              " <a list of 50 Patch objects>)"
            ]
          },
          "metadata": {},
          "execution_count": 35
        },
        {
          "output_type": "display_data",
          "data": {
            "text/plain": [
              "<Figure size 432x288 with 1 Axes>"
            ],
            "image/png": "[encoded data removed]"
          },
          "metadata": {
            "needs_background": "light"
          }
        }
      ]
    },
    {
      "cell_type": "markdown",
      "source": [
        "## 2-c\n",
        "Apakah setiap region memiliki proporsi data banyak orang yang sama?\n",
        "\n",
        "---"
      ],
      "metadata": {
        "id": "NuaVsZhGIU7p"
      }
    },
    {
      "cell_type": "code",
      "source": [
        "# banyak pengguna\n",
        "n_pengguna=len(df_ins)"
      ],
      "metadata": {
        "id": "DMnGJ8evFct-"
      },
      "execution_count": 19,
      "outputs": []
    },
    {
      "cell_type": "code",
      "source": [
        "# banyak data di region southwest\n",
        "n_charges_southwest=len(df_ins.loc[(df_ins['region'] == 'southwest'),'charges'])\n",
        "# proporsi data di region southwest\n",
        "n_charges_southwest/n_pengguna"
      ],
      "metadata": {
        "colab": {
          "base_uri": "https://localhost:8080/"
        },
        "id": "CVmEK072Fd4P",
        "outputId": "2bded394-4ce5-4544-f2c2-32de5920ad8b"
      },
      "execution_count": 20,
      "outputs": [
        {
          "output_type": "execute_result",
          "data": {
            "text/plain": [
              "0.2428998505231689"
            ]
          },
          "metadata": {},
          "execution_count": 20
        }
      ]
    },
    {
      "cell_type": "code",
      "source": [
        "# banyak data di region southeast\n",
        "n_charges_southeast=len(df_ins.loc[(df_ins['region'] == 'southeast'),'charges'])\n",
        "# proporsi data di region southeast\n",
        "n_charges_southeast/n_pengguna"
      ],
      "metadata": {
        "colab": {
          "base_uri": "https://localhost:8080/"
        },
        "id": "OrbHamD-GYzw",
        "outputId": "c2600f48-91bc-4891-c881-aed1d8b2df49"
      },
      "execution_count": 22,
      "outputs": [
        {
          "output_type": "execute_result",
          "data": {
            "text/plain": [
              "0.27204783258594917"
            ]
          },
          "metadata": {},
          "execution_count": 22
        }
      ]
    },
    {
      "cell_type": "code",
      "source": [
        "# banyak data di region northwest\n",
        "n_charges_northwest=len(df_ins.loc[(df_ins['region'] == 'northwest'),'charges'])\n",
        "# proporsi data di region northwest\n",
        "n_charges_northwest/n_pengguna"
      ],
      "metadata": {
        "colab": {
          "base_uri": "https://localhost:8080/"
        },
        "id": "s1qzakp5GgF0",
        "outputId": "bf4c7b3a-8daf-40e2-c2cb-c3e307313a3f"
      },
      "execution_count": 23,
      "outputs": [
        {
          "output_type": "execute_result",
          "data": {
            "text/plain": [
              "0.2428998505231689"
            ]
          },
          "metadata": {},
          "execution_count": 23
        }
      ]
    },
    {
      "cell_type": "code",
      "source": [
        "# banyak data di region northeast\n",
        "n_charges_northeast=len(df_ins.loc[(df_ins['region'] == 'northeast'),'charges'])\n",
        "# proporsi data di region northeast\n",
        "n_charges_northeast/n_pengguna"
      ],
      "metadata": {
        "colab": {
          "base_uri": "https://localhost:8080/"
        },
        "id": "Nw9Hj3feGn9T",
        "outputId": "115541a1-2a8e-4e93-baa8-80c56bcf7c03"
      },
      "execution_count": 24,
      "outputs": [
        {
          "output_type": "execute_result",
          "data": {
            "text/plain": [
              "0.242152466367713"
            ]
          },
          "metadata": {},
          "execution_count": 24
        }
      ]
    },
    {
      "cell_type": "code",
      "source": [],
      "metadata": {
        "id": "j2CFcDhpFXsP"
      },
      "execution_count": null,
      "outputs": []
    },
    {
      "cell_type": "markdown",
      "source": [
        "## 2-e\n",
        "Berapa peluang seseorang tersebut adalah perempuan diketahui dia adalah perokok?\n",
        "\n",
        "---"
      ],
      "metadata": {
        "id": "zwSXjelJJb4u"
      }
    },
    {
      "cell_type": "markdown",
      "source": [
        "$$\n",
        "P(\\text{perempuan} \\ | \\ \\text{perokok}) = \\cfrac{P(\\text{perempuan} \\cap \\text{perokok})}{P(\\text{perokok})}\n",
        "$$"
      ],
      "metadata": {
        "id": "7nua2MRkGTXG"
      }
    },
    {
      "cell_type": "code",
      "source": [
        "#banyak pengguna\n",
        "n_pengguna=len(df_ins)\n",
        "\n",
        "#peluang seseorang perempuan dan perokok\n",
        "kondisi_female=df_ins['sex'] == 'female'\n",
        "kondisi_perokok=df_ins['smoker'] == 'yes'\n",
        "\n",
        "event_female_and_perokok=df_ins[(kondisi_female) & (kondisi_perokok)]\n",
        "n_female_and_perokok=len(event_female_and_perokok)\n",
        "p_female_and_perokok=n_female_and_perokok/n_pengguna\n",
        "print(\"peluang seseorang perempuan dan perokok adalah \", p_female_and_perokok)\n",
        "\n",
        "#peluang seseorang perokok\n",
        "event_kondisi_perokok=df_ins[kondisi_perokok]\n",
        "n_kondisi_perokok=len(event_kondisi_perokok)\n",
        "p_kondisi_perokok=n_kondisi_perokok/n_pengguna\n",
        "print(\"peluang seseorang perokok adalah \",p_kondisi_perokok)\n",
        "\n",
        "#peluang seseorang tersebut adalah perempuan diketahui dia adalah perokok\n",
        "p_female_given_perokok=p_female_and_perokok/p_kondisi_perokok\n",
        "print(\"peluang seseorang tersebut adalah perempuan diketahui dia adalah perokok adalah \",p_female_given_perokok)"
      ],
      "metadata": {
        "colab": {
          "base_uri": "https://localhost:8080/"
        },
        "id": "CnOm41PtBVbR",
        "outputId": "1c5984c4-3d27-42fc-e824-f88c47f3f59a"
      },
      "execution_count": 25,
      "outputs": [
        {
          "output_type": "stream",
          "name": "stdout",
          "text": [
            "peluang seseorang perempuan dan perokok adalah  0.08594917787742899\n",
            "peluang seseorang perokok adalah  0.20478325859491778\n",
            "peluang seseorang tersebut adalah perempuan diketahui dia adalah perokok adalah  0.4197080291970803\n"
          ]
        }
      ]
    },
    {
      "cell_type": "markdown",
      "source": [
        "## 2-f\n",
        "Berapa peluang seseorang tersebut adalah laki-laki diketahui dia adalah perokok?\n",
        "\n",
        "---"
      ],
      "metadata": {
        "id": "PizPGFmGQvTG"
      }
    },
    {
      "cell_type": "markdown",
      "source": [
        "$$\n",
        "P(\\text{laki-laki} \\ | \\ \\text{perokok}) = \\cfrac{P(\\text{laki-laki} \\cap \\text{perokok})}{P(\\text{perokok})}\n",
        "$$"
      ],
      "metadata": {
        "id": "7pwRlXoLrKot"
      }
    },
    {
      "cell_type": "code",
      "source": [
        "#peluang seseorang laki-laki dan perokok\n",
        "kondisi_male=df_ins['sex'] == 'male'\n",
        "event_male_and_perokok=df_ins[(kondisi_male) & (kondisi_perokok)]\n",
        "n_male_and_perokok=len(event_male_and_perokok)\n",
        "p_male_and_perokok=n_male_and_perokok/n_pengguna\n",
        "print(\"peluang seseorang laki-laki dan perokok adalah \", p_male_and_perokok)\n",
        "\n",
        "#peluang seseorang tersebut adalah laki-laki diketahui dia adalah perokok\n",
        "p_male_given_perokok=p_male_and_perokok/p_kondisi_perokok\n",
        "print(\"peluang seseorang tersebut adalah laki-laki diketahui dia adalah perokok adalah \",p_male_given_perokok)"
      ],
      "metadata": {
        "colab": {
          "base_uri": "https://localhost:8080/"
        },
        "id": "z_Zhv-aXQuxF",
        "outputId": "fb92a77f-23ef-4785-e87b-5d4d6d9419eb"
      },
      "execution_count": 26,
      "outputs": [
        {
          "output_type": "stream",
          "name": "stdout",
          "text": [
            "peluang seseorang laki-laki dan perokok adalah  0.11883408071748879\n",
            "peluang seseorang tersebut adalah laki-laki diketahui dia adalah perokok adalah  0.5802919708029197\n"
          ]
        }
      ]
    },
    {
      "cell_type": "markdown",
      "source": [
        "# 3. Analisa Variabel Kontinu"
      ],
      "metadata": {
        "id": "IxDxVeHHfue9"
      }
    },
    {
      "cell_type": "markdown",
      "source": [
        "## 3-a\n",
        "Mana yang lebih mungkin terjadi\n",
        "  1. Seseorang dengan BMI diatas 25 mendapatkan tagihan kesehatan diatas 16.7k, atau\n",
        "  2. Seseorang dengan BMI dibawah 25 mendapatkan tagihan kesehatan diatas 16.7k\n"
      ],
      "metadata": {
        "id": "mTIP5NA6f1h8"
      }
    },
    {
      "cell_type": "code",
      "source": [
        "# distribusi data tagihan kesehatan dengan BMI diatas 25\n",
        "bmidiatas25=df_ins.loc[(df_ins['bmi'] > 25 ),'charges']\n",
        "np_bmidiatas25 = bmidiatas25.tolist()\n",
        "plt.hist(np_bmidiatas25, bins=50)"
      ],
      "metadata": {
        "colab": {
          "base_uri": "https://localhost:8080/",
          "height": 595
        },
        "id": "ekqV6DiH0Opi",
        "outputId": "590d2bf6-bcea-4c2b-ecb1-3226c62db657"
      },
      "execution_count": 27,
      "outputs": [
        {
          "output_type": "execute_result",
          "data": {
            "text/plain": [
              "(array([106.,  77.,  90.,  73.,  79.,  73.,  69.,  63.,  77.,  51.,  34.,\n",
              "         11.,  13.,  14.,  20.,  17.,  10.,  10.,  14.,   9.,   6.,   9.,\n",
              "          7.,   5.,   2.,   5.,  15.,  11.,  12.,  14.,  15.,  13.,  10.,\n",
              "          7.,  12.,   8.,  11.,   8.,   4.,   1.,   0.,   1.,   0.,   1.,\n",
              "          0.,   1.,   0.,   1.,   0.,   2.]),\n",
              " array([ 1131.5066   ,  2384.2850282,  3637.0634564,  4889.8418846,\n",
              "         6142.6203128,  7395.398741 ,  8648.1771692,  9900.9555974,\n",
              "        11153.7340256, 12406.5124538, 13659.290882 , 14912.0693102,\n",
              "        16164.8477384, 17417.6261666, 18670.4045948, 19923.183023 ,\n",
              "        21175.9614512, 22428.7398794, 23681.5183076, 24934.2967358,\n",
              "        26187.075164 , 27439.8535922, 28692.6320204, 29945.4104486,\n",
              "        31198.1888768, 32450.967305 , 33703.7457332, 34956.5241614,\n",
              "        36209.3025896, 37462.0810178, 38714.859446 , 39967.6378742,\n",
              "        41220.4163024, 42473.1947306, 43725.9731588, 44978.751587 ,\n",
              "        46231.5300152, 47484.3084434, 48737.0868716, 49989.8652998,\n",
              "        51242.643728 , 52495.4221562, 53748.2005844, 55000.9790126,\n",
              "        56253.7574408, 57506.535869 , 58759.3142972, 60012.0927254,\n",
              "        61264.8711536, 62517.6495818, 63770.42801  ]),\n",
              " <a list of 50 Patch objects>)"
            ]
          },
          "metadata": {},
          "execution_count": 27
        },
        {
          "output_type": "display_data",
          "data": {
            "text/plain": [
              "<Figure size 432x288 with 1 Axes>"
            ],
            "image/png": "[encoded data removed]"
          },
          "metadata": {
            "needs_background": "light"
          }
        }
      ]
    },
    {
      "cell_type": "markdown",
      "source": [
        "Dapat terlihat bahwa grafik histogram mendekati grafik PDF dari distribusi eksponensial. Sehingga kita dapat melakukan pemodelan dengan pendekatan distribusi eksponensial"
      ],
      "metadata": {
        "id": "UrCtuZmE28X2"
      }
    },
    {
      "cell_type": "code",
      "source": [
        "from scipy.stats import expon"
      ],
      "metadata": {
        "id": "6fu2HOdq_9sj"
      },
      "execution_count": 28,
      "outputs": []
    },
    {
      "cell_type": "code",
      "source": [
        "# rata-rata data 3a1\n",
        "mean_3a1=bmidiatas25.mean()\n",
        "# lambda data 3a1\n",
        "lambd_3a1=1/mean_3a1"
      ],
      "metadata": {
        "id": "RtREeGyJ29Yc"
      },
      "execution_count": 30,
      "outputs": []
    },
    {
      "cell_type": "markdown",
      "source": [
        "Seseorang dengan BMI diatas 25 mendapatkan tagihan kesehatan diatas 16.7k"
      ],
      "metadata": {
        "id": "VvDlgCB1-w4_"
      }
    },
    {
      "cell_type": "code",
      "source": [
        "x_3a1=16700\n",
        "p_3a1=1 - expon.cdf(x=x_3a1, scale=mean_3a1)\n",
        "p_3a1"
      ],
      "metadata": {
        "colab": {
          "base_uri": "https://localhost:8080/"
        },
        "id": "b1xz4YSI_FkF",
        "outputId": "56156db3-8d32-43e4-8184-ba5d7969ddda"
      },
      "execution_count": 31,
      "outputs": [
        {
          "output_type": "execute_result",
          "data": {
            "text/plain": [
              "0.30196773492681117"
            ]
          },
          "metadata": {},
          "execution_count": 31
        }
      ]
    },
    {
      "cell_type": "code",
      "source": [
        "# distribusi data tagihan kesehatan dengan BMI dibawah 25\n",
        "bmidibawah25=df_ins.loc[(df_ins['bmi'] < 25 ),'charges']\n",
        "np_bmidibawah25 = bmidibawah25.tolist()\n",
        "plt.hist(np_bmidibawah25, bins=50)"
      ],
      "metadata": {
        "colab": {
          "base_uri": "https://localhost:8080/",
          "height": 577
        },
        "id": "aszVLpVR2D3H",
        "outputId": "48bf2dd5-a631-4bb5-cab0-beeb713d96fa"
      },
      "execution_count": 32,
      "outputs": [
        {
          "output_type": "execute_result",
          "data": {
            "text/plain": [
              "(array([20., 13., 14., 13., 10., 13.,  7.,  6., 15.,  1., 11., 10.,  7.,\n",
              "         7.,  4.,  7.,  8.,  6.,  5.,  7.,  3.,  2.,  5.,  3.,  4.,  4.,\n",
              "         3.,  4.,  1.,  4.,  5.,  4.,  3.,  3.,  2.,  1.,  3.,  0.,  4.,\n",
              "         0.,  0.,  0.,  1.,  0.,  0.,  0.,  1.,  0.,  0.,  1.]),\n",
              " array([ 1121.8739   ,  1800.8239124,  2479.7739248,  3158.7239372,\n",
              "         3837.6739496,  4516.623962 ,  5195.5739744,  5874.5239868,\n",
              "         6553.4739992,  7232.4240116,  7911.374024 ,  8590.3240364,\n",
              "         9269.2740488,  9948.2240612, 10627.1740736, 11306.124086 ,\n",
              "        11985.0740984, 12664.0241108, 13342.9741232, 14021.9241356,\n",
              "        14700.874148 , 15379.8241604, 16058.7741728, 16737.7241852,\n",
              "        17416.6741976, 18095.62421  , 18774.5742224, 19453.5242348,\n",
              "        20132.4742472, 20811.4242596, 21490.374272 , 22169.3242844,\n",
              "        22848.2742968, 23527.2243092, 24206.1743216, 24885.124334 ,\n",
              "        25564.0743464, 26243.0243588, 26921.9743712, 27600.9243836,\n",
              "        28279.874396 , 28958.8244084, 29637.7744208, 30316.7244332,\n",
              "        30995.6744456, 31674.624458 , 32353.5744704, 33032.5244828,\n",
              "        33711.4744952, 34390.4245076, 35069.37452  ]),\n",
              " <a list of 50 Patch objects>)"
            ]
          },
          "metadata": {},
          "execution_count": 32
        },
        {
          "output_type": "display_data",
          "data": {
            "text/plain": [
              "<Figure size 432x288 with 1 Axes>"
            ],
            "image/png": "[encoded data removed]"
          },
          "metadata": {
            "needs_background": "light"
          }
        }
      ]
    },
    {
      "cell_type": "markdown",
      "source": [
        "Dapat terlihat bahwa grafik histogram mendekati grafik PDF dari distribusi eksponensial. Sehingga kita dapat melakukan pemodelan dengan pendekatan distribusi eksponensial"
      ],
      "metadata": {
        "id": "KjSEzEl_3Az9"
      }
    },
    {
      "cell_type": "code",
      "source": [
        "# rata-rata data 3a2\n",
        "mean_3a2=bmidibawah25.mean()\n",
        "# lambda data 3a2\n",
        "lambd_3a2=1/mean_3a2"
      ],
      "metadata": {
        "id": "5ekEnvNo3Bcv"
      },
      "execution_count": 33,
      "outputs": []
    },
    {
      "cell_type": "markdown",
      "source": [
        "Seseorang dengan BMI dibawah 25 mendapatkan tagihan kesehatan diatas 16.7k"
      ],
      "metadata": {
        "id": "XifNVfD1ARRm"
      }
    },
    {
      "cell_type": "code",
      "source": [
        "x_3a2=16700\n",
        "p_3a2=1 - expon.cdf(x=x_3a2, scale=mean_3a2)\n",
        "p_3a2"
      ],
      "metadata": {
        "colab": {
          "base_uri": "https://localhost:8080/"
        },
        "id": "rgckb93bASGR",
        "outputId": "f54124d4-3ee2-4e6c-c5dc-ce54c50c941d"
      },
      "execution_count": 34,
      "outputs": [
        {
          "output_type": "execute_result",
          "data": {
            "text/plain": [
              "0.1970767231263575"
            ]
          },
          "metadata": {},
          "execution_count": 34
        }
      ]
    },
    {
      "cell_type": "markdown",
      "source": [
        "# 4. Analisa Korelasi Variabel\n",
        "mengecek korelasi tagihan kesehatan minimal dengan 2 variabel lainnya."
      ],
      "metadata": {
        "id": "Wff30bzLgza_"
      }
    },
    {
      "cell_type": "markdown",
      "source": [
        "## a. Korelasi tagihan kesehatan dengan umur"
      ],
      "metadata": {
        "id": "J4Xs28PJBRNW"
      }
    },
    {
      "cell_type": "code",
      "source": [
        "# data tagihan dan umur pengguna\n",
        "data_4a=df_ins[['age','charges']]\n",
        "sns.boxplot(data = data_4a.melt(),\n",
        "            x = 'variable',\n",
        "            y = 'value')\n"
      ],
      "metadata": {
        "colab": {
          "base_uri": "https://localhost:8080/",
          "height": 296
        },
        "id": "hlEK8iEKS7B2",
        "outputId": "df479261-146b-4431-a26f-53eac1420128"
      },
      "execution_count": 35,
      "outputs": [
        {
          "output_type": "execute_result",
          "data": {
            "text/plain": [
              "<matplotlib.axes._subplots.AxesSubplot at 0x7fbb59d3d990>"
            ]
          },
          "metadata": {},
          "execution_count": 35
        },
        {
          "output_type": "display_data",
          "data": {
            "text/plain": [
              "<Figure size 432x288 with 1 Axes>"
            ],
            "image/png": "[encoded data removed]"
          },
          "metadata": {
            "needs_background": "light"
          }
        }
      ]
    },
    {
      "cell_type": "code",
      "source": [
        "plt.scatter(df_ins['age'], df_ins['charges'])\n",
        "plt.ylabel('Tagihan')\n",
        "plt.xlabel('Umur')\n",
        "plt.show()"
      ],
      "metadata": {
        "colab": {
          "base_uri": "https://localhost:8080/",
          "height": 279
        },
        "id": "Xe5TsAQYBuvG",
        "outputId": "88f7ee4f-859c-49b4-8fb0-881a15a591f5"
      },
      "execution_count": 36,
      "outputs": [
        {
          "output_type": "display_data",
          "data": {
            "text/plain": [
              "<Figure size 432x288 with 1 Axes>"
            ],
            "image/png": "[encoded data removed]"
          },
          "metadata": {
            "needs_background": "light"
          }
        }
      ]
    },
    {
      "cell_type": "code",
      "source": [
        "# korelasi antara tagihan dan umur\n",
        "data_4a.corr()"
      ],
      "metadata": {
        "colab": {
          "base_uri": "https://localhost:8080/",
          "height": 112
        },
        "id": "4V9JAJrBWa13",
        "outputId": "86cc3d6b-b15c-430e-8cc6-d4fa3965fb29"
      },
      "execution_count": 37,
      "outputs": [
        {
          "output_type": "execute_result",
          "data": {
            "text/plain": [
              "              age   charges\n",
              "age      1.000000  0.299008\n",
              "charges  0.299008  1.000000"
            ],
            "text/html": [
              "\n",
              "  <div id=\"df-f33b9129-68c8-4f0f-8723-ff2a48e4cb23\">\n",
              "    <div class=\"colab-df-container\">\n",
              "      <div>\n",
              "<style scoped>\n",
              "    .dataframe tbody tr th:only-of-type {\n",
              "        vertical-align: middle;\n",
              "    }\n",
              "\n",
              "    .dataframe tbody tr th {\n",
              "        vertical-align: top;\n",
              "    }\n",
              "\n",
              "    .dataframe thead th {\n",
              "        text-align: right;\n",
              "    }\n",
              "</style>\n",
              "<table border=\"1\" class=\"dataframe\">\n",
              "  <thead>\n",
              "    <tr style=\"text-align: right;\">\n",
              "      <th></th>\n",
              "      <th>age</th>\n",
              "      <th>charges</th>\n",
              "    </tr>\n",
              "  </thead>\n",
              "  <tbody>\n",
              "    <tr>\n",
              "      <th>age</th>\n",
              "      <td>1.000000</td>\n",
              "      <td>0.299008</td>\n",
              "    </tr>\n",
              "    <tr>\n",
              "      <th>charges</th>\n",
              "      <td>0.299008</td>\n",
              "      <td>1.000000</td>\n",
              "    </tr>\n",
              "  </tbody>\n",
              "</table>\n",
              "</div>\n",
              "      <button class=\"colab-df-convert\" onclick=\"convertToInteractive('df-f33b9129-68c8-4f0f-8723-ff2a48e4cb23')\"\n",
              "              title=\"Convert this dataframe to an interactive table.\"\n",
              "              style=\"display:none;\">\n",
              "        \n",
              "  <svg xmlns=\"http://www.w3.org/2000/svg\" height=\"24px\"viewBox=\"0 0 24 24\"\n",
              "       width=\"24px\">\n",
              "    <path d=\"M0 0h24v24H0V0z\" fill=\"none\"/>\n",
              "    <path d=\"M18.56 5.44l.94 2.06.94-2.06 2.06-.94-2.06-.94-.94-2.06-.94 2.06-2.06.94zm-11 1L8.5 8.5l.94-2.06 2.06-.94-2.06-.94L8.5 2.5l-.94 2.06-2.06.94zm10 10l.94 2.06.94-2.06 2.06-.94-2.06-.94-.94-2.06-.94 2.06-2.06.94z\"/><path d=\"M17.41 7.96l-1.37-1.37c-.4-.4-.92-.59-1.43-.59-.52 0-1.04.2-1.43.59L10.3 9.45l-7.72 7.72c-.78.78-.78 2.05 0 2.83L4 21.41c.39.39.9.59 1.41.59.51 0 1.02-.2 1.41-.59l7.78-7.78 2.81-2.81c.8-.78.8-2.07 0-2.86zM5.41 20L4 18.59l7.72-7.72 1.47 1.35L5.41 20z\"/>\n",
              "  </svg>\n",
              "      </button>\n",
              "      \n",
              "  <style>\n",
              "    .colab-df-container {\n",
              "      display:flex;\n",
              "      flex-wrap:wrap;\n",
              "      gap: 12px;\n",
              "    }\n",
              "\n",
              "    .colab-df-convert {\n",
              "      background-color: #E8F0FE;\n",
              "      border: none;\n",
              "      border-radius: 50%;\n",
              "      cursor: pointer;\n",
              "      display: none;\n",
              "      fill: #1967D2;\n",
              "      height: 32px;\n",
              "      padding: 0 0 0 0;\n",
              "      width: 32px;\n",
              "    }\n",
              "\n",
              "    .colab-df-convert:hover {\n",
              "      background-color: #E2EBFA;\n",
              "      box-shadow: 0px 1px 2px rgba(60, 64, 67, 0.3), 0px 1px 3px 1px rgba(60, 64, 67, 0.15);\n",
              "      fill: #174EA6;\n",
              "    }\n",
              "\n",
              "    [theme=dark] .colab-df-convert {\n",
              "      background-color: #3B4455;\n",
              "      fill: #D2E3FC;\n",
              "    }\n",
              "\n",
              "    [theme=dark] .colab-df-convert:hover {\n",
              "      background-color: #434B5C;\n",
              "      box-shadow: 0px 1px 3px 1px rgba(0, 0, 0, 0.15);\n",
              "      filter: drop-shadow(0px 1px 2px rgba(0, 0, 0, 0.3));\n",
              "      fill: #FFFFFF;\n",
              "    }\n",
              "  </style>\n",
              "\n",
              "      <script>\n",
              "        const buttonEl =\n",
              "          document.querySelector('#df-f33b9129-68c8-4f0f-8723-ff2a48e4cb23 button.colab-df-convert');\n",
              "        buttonEl.style.display =\n",
              "          google.colab.kernel.accessAllowed ? 'block' : 'none';\n",
              "\n",
              "        async function convertToInteractive(key) {\n",
              "          const element = document.querySelector('#df-f33b9129-68c8-4f0f-8723-ff2a48e4cb23');\n",
              "          const dataTable =\n",
              "            await google.colab.kernel.invokeFunction('convertToInteractive',\n",
              "                                                     [key], {});\n",
              "          if (!dataTable) return;\n",
              "\n",
              "          const docLinkHtml = 'Like what you see? Visit the ' +\n",
              "            '<a target=\"_blank\" href=https://colab.research.google.com/notebooks/data_table.ipynb>data table notebook</a>'\n",
              "            + ' to learn more about interactive tables.';\n",
              "          element.innerHTML = '';\n",
              "          dataTable['output_type'] = 'display_data';\n",
              "          await google.colab.output.renderOutput(dataTable, element);\n",
              "          const docLink = document.createElement('div');\n",
              "          docLink.innerHTML = docLinkHtml;\n",
              "          element.appendChild(docLink);\n",
              "        }\n",
              "      </script>\n",
              "    </div>\n",
              "  </div>\n",
              "  "
            ]
          },
          "metadata": {},
          "execution_count": 37
        }
      ]
    },
    {
      "cell_type": "code",
      "source": [
        "# heatmap korelasi antara tagihan dan umur\n",
        "corr_4a = data_4a.corr()\n",
        "sns.heatmap(corr_4a, cmap='coolwarm', annot=True)\n",
        "plt.show()"
      ],
      "metadata": {
        "colab": {
          "base_uri": "https://localhost:8080/",
          "height": 269
        },
        "id": "xcGzeFCRWpH7",
        "outputId": "ac37a4f7-2651-44fb-d52b-f6b6006c4471"
      },
      "execution_count": 38,
      "outputs": [
        {
          "output_type": "display_data",
          "data": {
            "text/plain": [
              "<Figure size 432x288 with 2 Axes>"
            ],
            "image/png": "[encoded data removed]"
          },
          "metadata": {
            "needs_background": "light"
          }
        }
      ]
    },
    {
      "cell_type": "markdown",
      "source": [
        "## b. Korelasi tagihan kesehatan dengan bmi"
      ],
      "metadata": {
        "id": "rpOd9h1TBfs8"
      }
    },
    {
      "cell_type": "code",
      "source": [
        "# data tagihan dan bmi\n",
        "data_4b=df_ins[['bmi','charges']]\n",
        "sns.boxplot(data = data_4b.melt(),\n",
        "            x = 'variable',\n",
        "            y = 'value')"
      ],
      "metadata": {
        "colab": {
          "base_uri": "https://localhost:8080/",
          "height": 296
        },
        "id": "SF8s4Q7AW_ds",
        "outputId": "200348e0-4890-4914-bcb1-93b8f2e9d4f8"
      },
      "execution_count": 39,
      "outputs": [
        {
          "output_type": "execute_result",
          "data": {
            "text/plain": [
              "<matplotlib.axes._subplots.AxesSubplot at 0x7fbb57389690>"
            ]
          },
          "metadata": {},
          "execution_count": 39
        },
        {
          "output_type": "display_data",
          "data": {
            "text/plain": [
              "<Figure size 432x288 with 1 Axes>"
            ],
            "image/png": "[encoded data removed]"
          },
          "metadata": {
            "needs_background": "light"
          }
        }
      ]
    },
    {
      "cell_type": "code",
      "source": [
        "plt.scatter(df_ins['bmi'], df_ins['charges'])\n",
        "plt.ylabel('Tagihan')\n",
        "plt.xlabel('BMI')\n",
        "plt.show()"
      ],
      "metadata": {
        "colab": {
          "base_uri": "https://localhost:8080/",
          "height": 279
        },
        "id": "t0iYMNATCNG9",
        "outputId": "6782ffbd-d6ee-4a11-cb99-34b449f6ec7d"
      },
      "execution_count": 40,
      "outputs": [
        {
          "output_type": "display_data",
          "data": {
            "text/plain": [
              "<Figure size 432x288 with 1 Axes>"
            ],
            "image/png": "[encoded data removed]"
          },
          "metadata": {
            "needs_background": "light"
          }
        }
      ]
    },
    {
      "cell_type": "code",
      "source": [
        "# korelasi antara tagihan dan bmi\n",
        "data_4b.corr()"
      ],
      "metadata": {
        "colab": {
          "base_uri": "https://localhost:8080/",
          "height": 112
        },
        "id": "TexS-TGPXNgT",
        "outputId": "769a1185-1724-4ada-a364-19641e6abc5e"
      },
      "execution_count": 41,
      "outputs": [
        {
          "output_type": "execute_result",
          "data": {
            "text/plain": [
              "              bmi   charges\n",
              "bmi      1.000000  0.198341\n",
              "charges  0.198341  1.000000"
            ],
            "text/html": [
              "\n",
              "  <div id=\"df-465bd7a6-ca63-49eb-958b-386d948c429b\">\n",
              "    <div class=\"colab-df-container\">\n",
              "      <div>\n",
              "<style scoped>\n",
              "    .dataframe tbody tr th:only-of-type {\n",
              "        vertical-align: middle;\n",
              "    }\n",
              "\n",
              "    .dataframe tbody tr th {\n",
              "        vertical-align: top;\n",
              "    }\n",
              "\n",
              "    .dataframe thead th {\n",
              "        text-align: right;\n",
              "    }\n",
              "</style>\n",
              "<table border=\"1\" class=\"dataframe\">\n",
              "  <thead>\n",
              "    <tr style=\"text-align: right;\">\n",
              "      <th></th>\n",
              "      <th>bmi</th>\n",
              "      <th>charges</th>\n",
              "    </tr>\n",
              "  </thead>\n",
              "  <tbody>\n",
              "    <tr>\n",
              "      <th>bmi</th>\n",
              "      <td>1.000000</td>\n",
              "      <td>0.198341</td>\n",
              "    </tr>\n",
              "    <tr>\n",
              "      <th>charges</th>\n",
              "      <td>0.198341</td>\n",
              "      <td>1.000000</td>\n",
              "    </tr>\n",
              "  </tbody>\n",
              "</table>\n",
              "</div>\n",
              "      <button class=\"colab-df-convert\" onclick=\"convertToInteractive('df-465bd7a6-ca63-49eb-958b-386d948c429b')\"\n",
              "              title=\"Convert this dataframe to an interactive table.\"\n",
              "              style=\"display:none;\">\n",
              "        \n",
              "  <svg xmlns=\"http://www.w3.org/2000/svg\" height=\"24px\"viewBox=\"0 0 24 24\"\n",
              "       width=\"24px\">\n",
              "    <path d=\"M0 0h24v24H0V0z\" fill=\"none\"/>\n",
              "    <path d=\"M18.56 5.44l.94 2.06.94-2.06 2.06-.94-2.06-.94-.94-2.06-.94 2.06-2.06.94zm-11 1L8.5 8.5l.94-2.06 2.06-.94-2.06-.94L8.5 2.5l-.94 2.06-2.06.94zm10 10l.94 2.06.94-2.06 2.06-.94-2.06-.94-.94-2.06-.94 2.06-2.06.94z\"/><path d=\"M17.41 7.96l-1.37-1.37c-.4-.4-.92-.59-1.43-.59-.52 0-1.04.2-1.43.59L10.3 9.45l-7.72 7.72c-.78.78-.78 2.05 0 2.83L4 21.41c.39.39.9.59 1.41.59.51 0 1.02-.2 1.41-.59l7.78-7.78 2.81-2.81c.8-.78.8-2.07 0-2.86zM5.41 20L4 18.59l7.72-7.72 1.47 1.35L5.41 20z\"/>\n",
              "  </svg>\n",
              "      </button>\n",
              "      \n",
              "  <style>\n",
              "    .colab-df-container {\n",
              "      display:flex;\n",
              "      flex-wrap:wrap;\n",
              "      gap: 12px;\n",
              "    }\n",
              "\n",
              "    .colab-df-convert {\n",
              "      background-color: #E8F0FE;\n",
              "      border: none;\n",
              "      border-radius: 50%;\n",
              "      cursor: pointer;\n",
              "      display: none;\n",
              "      fill: #1967D2;\n",
              "      height: 32px;\n",
              "      padding: 0 0 0 0;\n",
              "      width: 32px;\n",
              "    }\n",
              "\n",
              "    .colab-df-convert:hover {\n",
              "      background-color: #E2EBFA;\n",
              "      box-shadow: 0px 1px 2px rgba(60, 64, 67, 0.3), 0px 1px 3px 1px rgba(60, 64, 67, 0.15);\n",
              "      fill: #174EA6;\n",
              "    }\n",
              "\n",
              "    [theme=dark] .colab-df-convert {\n",
              "      background-color: #3B4455;\n",
              "      fill: #D2E3FC;\n",
              "    }\n",
              "\n",
              "    [theme=dark] .colab-df-convert:hover {\n",
              "      background-color: #434B5C;\n",
              "      box-shadow: 0px 1px 3px 1px rgba(0, 0, 0, 0.15);\n",
              "      filter: drop-shadow(0px 1px 2px rgba(0, 0, 0, 0.3));\n",
              "      fill: #FFFFFF;\n",
              "    }\n",
              "  </style>\n",
              "\n",
              "      <script>\n",
              "        const buttonEl =\n",
              "          document.querySelector('#df-465bd7a6-ca63-49eb-958b-386d948c429b button.colab-df-convert');\n",
              "        buttonEl.style.display =\n",
              "          google.colab.kernel.accessAllowed ? 'block' : 'none';\n",
              "\n",
              "        async function convertToInteractive(key) {\n",
              "          const element = document.querySelector('#df-465bd7a6-ca63-49eb-958b-386d948c429b');\n",
              "          const dataTable =\n",
              "            await google.colab.kernel.invokeFunction('convertToInteractive',\n",
              "                                                     [key], {});\n",
              "          if (!dataTable) return;\n",
              "\n",
              "          const docLinkHtml = 'Like what you see? Visit the ' +\n",
              "            '<a target=\"_blank\" href=https://colab.research.google.com/notebooks/data_table.ipynb>data table notebook</a>'\n",
              "            + ' to learn more about interactive tables.';\n",
              "          element.innerHTML = '';\n",
              "          dataTable['output_type'] = 'display_data';\n",
              "          await google.colab.output.renderOutput(dataTable, element);\n",
              "          const docLink = document.createElement('div');\n",
              "          docLink.innerHTML = docLinkHtml;\n",
              "          element.appendChild(docLink);\n",
              "        }\n",
              "      </script>\n",
              "    </div>\n",
              "  </div>\n",
              "  "
            ]
          },
          "metadata": {},
          "execution_count": 41
        }
      ]
    },
    {
      "cell_type": "code",
      "source": [
        "# heatmap korelasi antara tagihan dan bmi\n",
        "corr_4b = data_4b.corr()\n",
        "sns.heatmap(corr_4b, cmap='coolwarm', annot=True)\n",
        "plt.show()"
      ],
      "metadata": {
        "colab": {
          "base_uri": "https://localhost:8080/",
          "height": 269
        },
        "id": "tFMaCEM2XRNu",
        "outputId": "ce601af7-6b09-41ac-e66f-43edb67930b2"
      },
      "execution_count": 42,
      "outputs": [
        {
          "output_type": "display_data",
          "data": {
            "text/plain": [
              "<Figure size 432x288 with 2 Axes>"
            ],
            "image/png": "[encoded data removed]"
          },
          "metadata": {
            "needs_background": "light"
          }
        }
      ]
    },
    {
      "cell_type": "markdown",
      "source": [
        "## c. Korelasi tagihan dengan banyak anak"
      ],
      "metadata": {
        "id": "g5m4muBvXrIp"
      }
    },
    {
      "cell_type": "code",
      "source": [
        "# data tagihan dan banyak anak\n",
        "data_4c=df_ins[['children','charges']]\n",
        "sns.boxplot(data = data_4c.melt(),\n",
        "            x = 'variable',\n",
        "            y = 'value')"
      ],
      "metadata": {
        "colab": {
          "base_uri": "https://localhost:8080/",
          "height": 296
        },
        "id": "MlBvk03MXwt4",
        "outputId": "00a6ca2a-c97a-4620-eeac-6e4ac51fffd6"
      },
      "execution_count": 43,
      "outputs": [
        {
          "output_type": "execute_result",
          "data": {
            "text/plain": [
              "<matplotlib.axes._subplots.AxesSubplot at 0x7fbb57219b10>"
            ]
          },
          "metadata": {},
          "execution_count": 43
        },
        {
          "output_type": "display_data",
          "data": {
            "text/plain": [
              "<Figure size 432x288 with 1 Axes>"
            ],
            "image/png": "[encoded data removed]"
          },
          "metadata": {
            "needs_background": "light"
          }
        }
      ]
    },
    {
      "cell_type": "code",
      "source": [
        "plt.scatter(df_ins['children'], df_ins['charges'])\n",
        "plt.ylabel('Tagihan')\n",
        "plt.xlabel('Banyak anak')\n",
        "plt.show()"
      ],
      "metadata": {
        "colab": {
          "base_uri": "https://localhost:8080/",
          "height": 279
        },
        "id": "GDoafOJwX3oT",
        "outputId": "37a5bf86-6d45-4c27-c19e-1cb11365bbcc"
      },
      "execution_count": 44,
      "outputs": [
        {
          "output_type": "display_data",
          "data": {
            "text/plain": [
              "<Figure size 432x288 with 1 Axes>"
            ],
            "image/png": "[encoded data removed]"
          },
          "metadata": {
            "needs_background": "light"
          }
        }
      ]
    },
    {
      "cell_type": "code",
      "source": [
        "# korelasi antara tagihan dan bmi\n",
        "data_4c.corr()"
      ],
      "metadata": {
        "colab": {
          "base_uri": "https://localhost:8080/",
          "height": 112
        },
        "id": "Joe_06VCYAhu",
        "outputId": "8d3246c4-dba1-4b65-808c-d45bc1aac0d2"
      },
      "execution_count": 45,
      "outputs": [
        {
          "output_type": "execute_result",
          "data": {
            "text/plain": [
              "          children   charges\n",
              "children  1.000000  0.067998\n",
              "charges   0.067998  1.000000"
            ],
            "text/html": [
              "\n",
              "  <div id=\"df-57b689f2-face-492a-840e-bc953c14999d\">\n",
              "    <div class=\"colab-df-container\">\n",
              "      <div>\n",
              "<style scoped>\n",
              "    .dataframe tbody tr th:only-of-type {\n",
              "        vertical-align: middle;\n",
              "    }\n",
              "\n",
              "    .dataframe tbody tr th {\n",
              "        vertical-align: top;\n",
              "    }\n",
              "\n",
              "    .dataframe thead th {\n",
              "        text-align: right;\n",
              "    }\n",
              "</style>\n",
              "<table border=\"1\" class=\"dataframe\">\n",
              "  <thead>\n",
              "    <tr style=\"text-align: right;\">\n",
              "      <th></th>\n",
              "      <th>children</th>\n",
              "      <th>charges</th>\n",
              "    </tr>\n",
              "  </thead>\n",
              "  <tbody>\n",
              "    <tr>\n",
              "      <th>children</th>\n",
              "      <td>1.000000</td>\n",
              "      <td>0.067998</td>\n",
              "    </tr>\n",
              "    <tr>\n",
              "      <th>charges</th>\n",
              "      <td>0.067998</td>\n",
              "      <td>1.000000</td>\n",
              "    </tr>\n",
              "  </tbody>\n",
              "</table>\n",
              "</div>\n",
              "      <button class=\"colab-df-convert\" onclick=\"convertToInteractive('df-57b689f2-face-492a-840e-bc953c14999d')\"\n",
              "              title=\"Convert this dataframe to an interactive table.\"\n",
              "              style=\"display:none;\">\n",
              "        \n",
              "  <svg xmlns=\"http://www.w3.org/2000/svg\" height=\"24px\"viewBox=\"0 0 24 24\"\n",
              "       width=\"24px\">\n",
              "    <path d=\"M0 0h24v24H0V0z\" fill=\"none\"/>\n",
              "    <path d=\"M18.56 5.44l.94 2.06.94-2.06 2.06-.94-2.06-.94-.94-2.06-.94 2.06-2.06.94zm-11 1L8.5 8.5l.94-2.06 2.06-.94-2.06-.94L8.5 2.5l-.94 2.06-2.06.94zm10 10l.94 2.06.94-2.06 2.06-.94-2.06-.94-.94-2.06-.94 2.06-2.06.94z\"/><path d=\"M17.41 7.96l-1.37-1.37c-.4-.4-.92-.59-1.43-.59-.52 0-1.04.2-1.43.59L10.3 9.45l-7.72 7.72c-.78.78-.78 2.05 0 2.83L4 21.41c.39.39.9.59 1.41.59.51 0 1.02-.2 1.41-.59l7.78-7.78 2.81-2.81c.8-.78.8-2.07 0-2.86zM5.41 20L4 18.59l7.72-7.72 1.47 1.35L5.41 20z\"/>\n",
              "  </svg>\n",
              "      </button>\n",
              "      \n",
              "  <style>\n",
              "    .colab-df-container {\n",
              "      display:flex;\n",
              "      flex-wrap:wrap;\n",
              "      gap: 12px;\n",
              "    }\n",
              "\n",
              "    .colab-df-convert {\n",
              "      background-color: #E8F0FE;\n",
              "      border: none;\n",
              "      border-radius: 50%;\n",
              "      cursor: pointer;\n",
              "      display: none;\n",
              "      fill: #1967D2;\n",
              "      height: 32px;\n",
              "      padding: 0 0 0 0;\n",
              "      width: 32px;\n",
              "    }\n",
              "\n",
              "    .colab-df-convert:hover {\n",
              "      background-color: #E2EBFA;\n",
              "      box-shadow: 0px 1px 2px rgba(60, 64, 67, 0.3), 0px 1px 3px 1px rgba(60, 64, 67, 0.15);\n",
              "      fill: #174EA6;\n",
              "    }\n",
              "\n",
              "    [theme=dark] .colab-df-convert {\n",
              "      background-color: #3B4455;\n",
              "      fill: #D2E3FC;\n",
              "    }\n",
              "\n",
              "    [theme=dark] .colab-df-convert:hover {\n",
              "      background-color: #434B5C;\n",
              "      box-shadow: 0px 1px 3px 1px rgba(0, 0, 0, 0.15);\n",
              "      filter: drop-shadow(0px 1px 2px rgba(0, 0, 0, 0.3));\n",
              "      fill: #FFFFFF;\n",
              "    }\n",
              "  </style>\n",
              "\n",
              "      <script>\n",
              "        const buttonEl =\n",
              "          document.querySelector('#df-57b689f2-face-492a-840e-bc953c14999d button.colab-df-convert');\n",
              "        buttonEl.style.display =\n",
              "          google.colab.kernel.accessAllowed ? 'block' : 'none';\n",
              "\n",
              "        async function convertToInteractive(key) {\n",
              "          const element = document.querySelector('#df-57b689f2-face-492a-840e-bc953c14999d');\n",
              "          const dataTable =\n",
              "            await google.colab.kernel.invokeFunction('convertToInteractive',\n",
              "                                                     [key], {});\n",
              "          if (!dataTable) return;\n",
              "\n",
              "          const docLinkHtml = 'Like what you see? Visit the ' +\n",
              "            '<a target=\"_blank\" href=https://colab.research.google.com/notebooks/data_table.ipynb>data table notebook</a>'\n",
              "            + ' to learn more about interactive tables.';\n",
              "          element.innerHTML = '';\n",
              "          dataTable['output_type'] = 'display_data';\n",
              "          await google.colab.output.renderOutput(dataTable, element);\n",
              "          const docLink = document.createElement('div');\n",
              "          docLink.innerHTML = docLinkHtml;\n",
              "          element.appendChild(docLink);\n",
              "        }\n",
              "      </script>\n",
              "    </div>\n",
              "  </div>\n",
              "  "
            ]
          },
          "metadata": {},
          "execution_count": 45
        }
      ]
    },
    {
      "cell_type": "code",
      "source": [
        "# heatmap korelasi antara tagihan dan bmi\n",
        "corr_4c = data_4c.corr()\n",
        "sns.heatmap(corr_4c, cmap='coolwarm', annot=True)\n",
        "plt.show()"
      ],
      "metadata": {
        "id": "HrQOnrRFYHii",
        "outputId": "2eabbf3a-9b1f-473f-e4f8-513369285dd3",
        "colab": {
          "base_uri": "https://localhost:8080/",
          "height": 269
        }
      },
      "execution_count": null,
      "outputs": [
        {
          "output_type": "display_data",
          "data": {
            "text/plain": [
              "<Figure size 432x288 with 2 Axes>"
            ],
            "image/png": "[encoded data removed]"
          },
          "metadata": {
            "needs_background": "light"
          }
        }
      ]
    },
    {
      "cell_type": "markdown",
      "source": [
        "# 5. Pengujian Hipotesis"
      ],
      "metadata": {
        "id": "_UEodoJZg9a4"
      }
    },
    {
      "cell_type": "code",
      "source": [
        "from statsmodels.stats.weightstats import ztest\n",
        "from scipy.stats import ttest_ind"
      ],
      "metadata": {
        "id": "qfr23048lreu"
      },
      "execution_count": 47,
      "outputs": []
    },
    {
      "cell_type": "markdown",
      "source": [
        "## 5-a\n",
        "Tagihan kesehatan perokok lebih tinggi daripada tagihan kesehatan non perokok\n",
        "\n",
        "---"
      ],
      "metadata": {
        "id": "VjPdH8nmhDP0"
      }
    },
    {
      "cell_type": "markdown",
      "source": [
        "H1: Tagihan kesehatan perokok lebih tinggi daripada tagihan kesehatan non perokok\n",
        "μ1 = rata-rata data tagihan perokok\n",
        "μ2 = rata-rata data tagihan nonperokok\n",
        "H0: μ1 = μ2\n",
        "H1: μ1 > μ2"
      ],
      "metadata": {
        "id": "U02gFdm8Dn5j"
      }
    },
    {
      "cell_type": "code",
      "source": [
        "stat, pvalue = ttest_ind(data5a_1, data5a_2, equal_var=False, alternative='greater')\n",
        "print(stat, pvalue)"
      ],
      "metadata": {
        "colab": {
          "base_uri": "https://localhost:8080/"
        },
        "id": "SF14X2aApRuO",
        "outputId": "46ee4b36-870c-4492-f99a-0fd34cfcc380"
      },
      "execution_count": 61,
      "outputs": [
        {
          "output_type": "stream",
          "name": "stdout",
          "text": [
            "32.751887766341824 2.94473222335849e-103\n"
          ]
        }
      ]
    },
    {
      "cell_type": "markdown",
      "source": [
        "p-value = 0.0 < 0.05 maka maka keputusan tolak H0 maka terdapat cukup bukti untuk pernyataan Tagihan kesehatan perokok lebih tinggi daripada tagihan kesehatan non perokok dengan keyakinan 95%"
      ],
      "metadata": {
        "id": "yxPqDkKgENcD"
      }
    },
    {
      "cell_type": "markdown",
      "source": [
        "## 5-b\n",
        "Proporsi perokok laki laki lebih besar dari perempuan\n",
        "\n",
        "---"
      ],
      "metadata": {
        "id": "EOYFpIyqhH0v"
      }
    },
    {
      "cell_type": "code",
      "source": [
        "from statsmodels.stats.proportion import proportions_ztest"
      ],
      "metadata": {
        "id": "OgMerJq5FqFZ"
      },
      "execution_count": 62,
      "outputs": []
    },
    {
      "cell_type": "markdown",
      "source": [
        "H1: Proporsi perokok laki laki lebih besar dari perempuan\n",
        "p= proporsi perokok laki-laki\n",
        "p0= proporsi perokok perempuan"
      ],
      "metadata": {
        "id": "QGzfAuflEY08"
      }
    },
    {
      "cell_type": "code",
      "source": [
        "# banyak laki-laki perokok\n",
        "len(df_ins[(df_ins['sex'] == 'male')&(df_ins['smoker'] == 'yes')])"
      ],
      "metadata": {
        "id": "W4iGI8KGpu3H",
        "colab": {
          "base_uri": "https://localhost:8080/"
        },
        "outputId": "3abb5aaa-ff09-48ea-945c-94284992b7b3"
      },
      "execution_count": 63,
      "outputs": [
        {
          "output_type": "execute_result",
          "data": {
            "text/plain": [
              "159"
            ]
          },
          "metadata": {},
          "execution_count": 63
        }
      ]
    },
    {
      "cell_type": "code",
      "source": [
        "# jumlah laki-laki\n",
        "len(df_ins[df_ins['sex'] == 'male'])"
      ],
      "metadata": {
        "colab": {
          "base_uri": "https://localhost:8080/"
        },
        "id": "VXPCFW-hEbf7",
        "outputId": "de4ab342-41ef-4493-e56a-b04ca065b30e"
      },
      "execution_count": 64,
      "outputs": [
        {
          "output_type": "execute_result",
          "data": {
            "text/plain": [
              "676"
            ]
          },
          "metadata": {},
          "execution_count": 64
        }
      ]
    },
    {
      "cell_type": "code",
      "source": [
        "# banyak perempuan perokok\n",
        "len(df_ins[(df_ins['sex'] == 'female')&(df_ins['smoker'] == 'yes')])"
      ],
      "metadata": {
        "colab": {
          "base_uri": "https://localhost:8080/"
        },
        "id": "pz9uZ3e9Edag",
        "outputId": "15e876c4-b921-4da8-f5f2-97b4706b8cd4"
      },
      "execution_count": 65,
      "outputs": [
        {
          "output_type": "execute_result",
          "data": {
            "text/plain": [
              "115"
            ]
          },
          "metadata": {},
          "execution_count": 65
        }
      ]
    },
    {
      "cell_type": "code",
      "source": [
        "# jumlah perempuan\n",
        "len(df_ins[df_ins['sex'] == 'female'])"
      ],
      "metadata": {
        "colab": {
          "base_uri": "https://localhost:8080/"
        },
        "id": "FIr2L0khEhDD",
        "outputId": "d13805bf-83dd-4053-abcd-f1c8af166c1c"
      },
      "execution_count": 66,
      "outputs": [
        {
          "output_type": "execute_result",
          "data": {
            "text/plain": [
              "662"
            ]
          },
          "metadata": {},
          "execution_count": 66
        }
      ]
    },
    {
      "cell_type": "code",
      "source": [
        "number_of_successes = np.array([159, 115])\n",
        "total_sample_sizes = np.array([676,662])"
      ],
      "metadata": {
        "id": "Y1OFhIPNFOuk"
      },
      "execution_count": 67,
      "outputs": []
    },
    {
      "cell_type": "code",
      "source": [
        "# Hitung uji statistik dan p_value\n",
        "(test_stat, p_value) = proportions_ztest(number_of_successes, total_sample_sizes,alternative='larger')\n",
        "print(\"The computed Z test statistic is: \",test_stat)\n",
        "print(\"The p-value is: \", p_value)"
      ],
      "metadata": {
        "colab": {
          "base_uri": "https://localhost:8080/"
        },
        "id": "4Wepw0lpFbCO",
        "outputId": "a248bc35-ac84-49e1-a25e-a8fd9486e694"
      },
      "execution_count": 68,
      "outputs": [
        {
          "output_type": "stream",
          "name": "stdout",
          "text": [
            "The computed Z test statistic is:  2.7867402154855503\n",
            "The p-value is:  0.002662057082160266\n"
          ]
        }
      ]
    },
    {
      "cell_type": "markdown",
      "source": [
        "Setelah mengetahui uji statistik dari permasalahan tersebut, maka selanjutnya yaitu mencari critical Z-value untuk membandingkannya dengan nilai statistiknya. Kita akan menggunakan nilai alpha 0,025"
      ],
      "metadata": {
        "id": "uYrq3tsjJHSK"
      }
    },
    {
      "cell_type": "code",
      "source": [
        "# Nilai Critical Value berdasarkan critical Z-value dari Z-table dengan nilai alpha 0.025\n",
        "import scipy.stats as stats\n",
        "z_crit=stats.norm.ppf(1-0.025)\n",
        "print(z_crit)"
      ],
      "metadata": {
        "colab": {
          "base_uri": "https://localhost:8080/"
        },
        "id": "KptckGltIs4u",
        "outputId": "90598c03-70b3-4ac7-e143-85ea53bcd676"
      },
      "execution_count": 69,
      "outputs": [
        {
          "output_type": "stream",
          "name": "stdout",
          "text": [
            "1.959963984540054\n"
          ]
        }
      ]
    },
    {
      "cell_type": "code",
      "source": [
        "# Menentukan aturan keputusan\n",
        "if p_value<0.025:\n",
        "  print(\"Reject the null hypothesis\")\n",
        "else:\n",
        "  print(\"Accepting the Null hypothesis\")"
      ],
      "metadata": {
        "colab": {
          "base_uri": "https://localhost:8080/"
        },
        "id": "rG0C8q5JIxg5",
        "outputId": "25c5883c-e1d8-4a27-bb58-bf0165e8a7ef"
      },
      "execution_count": 70,
      "outputs": [
        {
          "output_type": "stream",
          "name": "stdout",
          "text": [
            "Reject the null hypothesis\n"
          ]
        }
      ]
    },
    {
      "cell_type": "markdown",
      "source": [
        "## 5-c\n",
        "Variansi tagihan kesehatan perokok dan non perokok sama\n",
        "\n",
        "---"
      ],
      "metadata": {
        "id": "EtyHFCd6hOHn"
      }
    },
    {
      "cell_type": "code",
      "source": [
        "import scipy.stats as stats\n",
        "import math\n",
        "# grup 1 = tagihan kesehatan perokok\n",
        "# grup 2 = tagihan kesehatan nonperokok\n",
        "rataan1 = df_ins.loc[(df_ins['smoker'] =='yes'),'charges'].mean()\n",
        "rataan2 = df_ins.loc[(df_ins['smoker'] =='no'),'charges'].mean()\n",
        "\n",
        "# Menentukan sample variance\n",
        "s_x = df_ins.loc[(df_ins['smoker'] =='yes'),'charges'].var()\n",
        "s_y = df_ins.loc[(df_ins['smoker'] =='no'),'charges'].var()\n",
        "\n",
        "# Ukuran sampel dua kelompok\n",
        "sample1 = len(df_ins.loc[(df_ins['smoker'] =='yes'),'charges'])\n",
        "sample2 = len(df_ins.loc[(df_ins['smoker'] =='no'),'charges'])"
      ],
      "metadata": {
        "id": "K-UP8PhuJz6B"
      },
      "execution_count": 71,
      "outputs": []
    },
    {
      "cell_type": "code",
      "source": [
        "# Hitung uji statistik\n",
        "f_test=s_x/s_y\n",
        "print(\"Dari program di atas hasil uji statistik adalah : \", f_test)"
      ],
      "metadata": {
        "colab": {
          "base_uri": "https://localhost:8080/"
        },
        "id": "xgrYPUOkKcP3",
        "outputId": "3358b9c1-c149-4305-c547-c6c623fac65c"
      },
      "execution_count": 72,
      "outputs": [
        {
          "output_type": "stream",
          "name": "stdout",
          "text": [
            "Dari program di atas hasil uji statistik adalah :  3.707884538770158\n"
          ]
        }
      ]
    },
    {
      "cell_type": "markdown",
      "source": [
        "Setelah mengetahui uji statistik dari permasalahan tersebut, maka selanjutnya yaitu mencari critical f-value untuk membandingkannya dengan nilai statistiknya. Kita akan menggunakan nilai alpha 0,05"
      ],
      "metadata": {
        "id": "dhPBONv_Kjop"
      }
    },
    {
      "cell_type": "code",
      "source": [
        "# Nilai Critical Value berdasarkan critical f-value dari f-table dengan nilai alpha 0.05\n",
        "import scipy.stats as stats\n",
        "f_crit=stats.f.ppf(1-0.05, (sample1-1), (sample2-1))\n",
        "print(f_crit)"
      ],
      "metadata": {
        "colab": {
          "base_uri": "https://localhost:8080/"
        },
        "id": "0Wo8HFJCKpw6",
        "outputId": "512ad1df-753f-4fba-e94a-e46106bf116e"
      },
      "execution_count": 73,
      "outputs": [
        {
          "output_type": "stream",
          "name": "stdout",
          "text": [
            "1.1662297531965873\n"
          ]
        }
      ]
    },
    {
      "cell_type": "code",
      "source": [
        "print(\"Dengan nilai uji statistik\", f_test,\" dan nilai f_crit\", f_crit)"
      ],
      "metadata": {
        "colab": {
          "base_uri": "https://localhost:8080/"
        },
        "id": "VNR0qOJwK7s6",
        "outputId": "9b19b1fd-d1c1-436f-fe2a-b26d3eb220b6"
      },
      "execution_count": 74,
      "outputs": [
        {
          "output_type": "stream",
          "name": "stdout",
          "text": [
            "Dengan nilai uji statistik 3.707884538770158  dan nilai f_crit 1.1662297531965873\n"
          ]
        }
      ]
    },
    {
      "cell_type": "code",
      "source": [
        "# Menentukan aturan keputusan\n",
        "if f_test>f_crit:\n",
        "  print(\"Tolak null hypothesis\")\n",
        "else:\n",
        "  print(\"Terima null hypothesis\")"
      ],
      "metadata": {
        "colab": {
          "base_uri": "https://localhost:8080/"
        },
        "id": "0GMF2gNmLLij",
        "outputId": "454d506f-c74b-4f21-b85c-b1066ce550b4"
      },
      "execution_count": 75,
      "outputs": [
        {
          "output_type": "stream",
          "name": "stdout",
          "text": [
            "Tolak null hypothesis\n"
          ]
        }
      ]
    }
  ]
}